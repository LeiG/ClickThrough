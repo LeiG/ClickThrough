{
 "metadata": {
  "name": "",
  "signature": "sha256:57a33ba115deb85fdb3a435ded691540002c0be1934d1153a9f364af440bc921"
 },
 "nbformat": 3,
 "nbformat_minor": 0,
 "worksheets": [
  {
   "cells": [
    {
     "cell_type": "heading",
     "level": 1,
     "metadata": {},
     "source": [
      "Predict whether a mobile ad will be clicked"
     ]
    },
    {
     "cell_type": "markdown",
     "metadata": {},
     "source": [
      "In online advertising, [click-through rate](http://en.wikipedia.org/wiki/Click-through_rate) (CTR) is a very important metric for evaluating ad performance."
     ]
    },
    {
     "cell_type": "heading",
     "level": 2,
     "metadata": {},
     "source": [
      "Data"
     ]
    },
    {
     "cell_type": "markdown",
     "metadata": {},
     "source": [
      "This competition provides 11 days worth of Avazu data to build and test prediction models.\n",
      "\n",
      "Additional details:\n",
      "- 'train_rev1.csv' training set. 10 days of click-through data, ordered chronologically.\n",
      "- 'test_rev1.csv' test set. 1 day of ads for testing predictions.\n",
      "- fields\n",
      "    - id: ad identifier\n",
      "    - click: 0/1 for non-click/click\n",
      "    - hour: format YYMMDDHH, e.g. 14091123 means 23:00 on Sept. 11, 2014"
     ]
    },
    {
     "cell_type": "code",
     "collapsed": false,
     "input": [],
     "language": "python",
     "metadata": {},
     "outputs": []
    }
   ],
   "metadata": {}
  }
 ]
}